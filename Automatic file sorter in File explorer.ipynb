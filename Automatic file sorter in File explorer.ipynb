{
 "cells": [
  {
   "cell_type": "code",
   "execution_count": 10,
   "id": "0445269d-a4f3-4a7c-8c39-78136866285c",
   "metadata": {},
   "outputs": [],
   "source": [
    "import os, shutil\n",
    "# Python shutil module provides the facility to perform the high-level file operation. \n",
    "# It can operate with the file object and offers us the ability of copy and remove the files.\n",
    "\n",
    "path = r\"C:/Users/mejor/OneDrive/Desktop/File Sorting in Python/\"\n"
   ]
  },
  {
   "cell_type": "code",
   "execution_count": 15,
   "id": "9ea7f106-649f-4c7c-be08-6a31b11812c4",
   "metadata": {},
   "outputs": [],
   "source": [
    "file_name = os.listdir(path)\n"
   ]
  },
  {
   "cell_type": "code",
   "execution_count": 14,
   "id": "ee4844cf-26d6-4c10-93ff-d482f71680f4",
   "metadata": {},
   "outputs": [
    {
     "name": "stdout",
     "output_type": "stream",
     "text": [
      "C:/Users/mejor/OneDrive/Desktop/File Sorting in Python/javascript files\n"
     ]
    }
   ],
   "source": [
    "# create a folder\n",
    "\n",
    "folder_name = ['jpeg files', 'text files', 'javascript files']\n",
    "for loop in range(0,3):\n",
    "    if not os.path.exists(path + folder_name[loop]):\n",
    "        print(path + folder_name[loop])\n",
    "        os.makedirs(path + folder_name[loop])"
   ]
  },
  {
   "cell_type": "code",
   "execution_count": 27,
   "id": "e2e2107e-1c0f-409f-90ec-b572173ce45e",
   "metadata": {},
   "outputs": [],
   "source": [
    "for file in file_name:\n",
    "    if '.jpeg' in file and not os.path.exists(path + \"jpeg files/\" + file):\n",
    "        shutil.move(path + file, path + \"jpeg files/\" + file)\n",
    "    if '.txt' in file and not os.path.exists(path + \"text files/\" + file):\n",
    "        shutil.move(path + file, path + \"text files/\" + file)\n",
    "    if '.js' in file and not os.path.exists(path + \"javascript files/\" + file):\n",
    "        shutil.move(path + file, path + \"javascript files/\" + file)"
   ]
  },
  {
   "cell_type": "code",
   "execution_count": 17,
   "id": "4effc06c-b12e-45ce-b311-fb7401db04e9",
   "metadata": {},
   "outputs": [
    {
     "name": "stdout",
     "output_type": "stream",
     "text": [
      "['jpeg files', 'text files', 'javascript files']\n"
     ]
    }
   ],
   "source": [
    "print(folder_name)"
   ]
  },
  {
   "cell_type": "code",
   "execution_count": 22,
   "id": "ae7478f4-2753-4072-848d-7916d7f2eed2",
   "metadata": {},
   "outputs": [
    {
     "name": "stdout",
     "output_type": "stream",
     "text": [
      "['jpeg files', 'text files', 'javascript files']\n"
     ]
    }
   ],
   "source": [
    "for folder_name_str in folder_name:\n",
    "    folder_name_str_converted = str(folder_name)\n",
    "\n",
    "print(folder_name_str_converted)\n"
   ]
  },
  {
   "cell_type": "code",
   "execution_count": 23,
   "id": "e39f27e3-0666-4ac0-b79b-0e786868d4c1",
   "metadata": {},
   "outputs": [
    {
     "data": {
      "text/plain": [
       "str"
      ]
     },
     "execution_count": 23,
     "metadata": {},
     "output_type": "execute_result"
    }
   ],
   "source": [
    "type(folder_name_str_converted )"
   ]
  },
  {
   "cell_type": "markdown",
   "id": "1958faad-0512-458c-8756-410f2646e14c",
   "metadata": {},
   "source": [
    "# create a timer"
   ]
  },
  {
   "cell_type": "code",
   "execution_count": null,
   "id": "e38cbc0e-1a3f-495d-a4df-ee6bdb11a0b8",
   "metadata": {},
   "outputs": [],
   "source": []
  }
 ],
 "metadata": {
  "kernelspec": {
   "display_name": "Python 3 (ipykernel)",
   "language": "python",
   "name": "python3"
  },
  "language_info": {
   "codemirror_mode": {
    "name": "ipython",
    "version": 3
   },
   "file_extension": ".py",
   "mimetype": "text/x-python",
   "name": "python",
   "nbconvert_exporter": "python",
   "pygments_lexer": "ipython3",
   "version": "3.11.7"
  },
  "widgets": {
   "application/vnd.jupyter.widget-state+json": {
    "state": {},
    "version_major": 2,
    "version_minor": 0
   }
  }
 },
 "nbformat": 4,
 "nbformat_minor": 5
}
